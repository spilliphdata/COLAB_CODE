{
 "cells": [
  {
   "cell_type": "markdown",
   "id": "33f12974",
   "metadata": {},
   "source": [
    "# Data Engineering Usecase"
   ]
  },
  {
   "cell_type": "code",
   "execution_count": 69,
   "id": "1aa4bf83",
   "metadata": {},
   "outputs": [],
   "source": [
    "#import the necessary libraries\n",
    "import pandas as pd\n",
    "import numpy as np\n",
    "import re\n",
    "from io import StringIO\n",
    "from datetime import datetime as dt"
   ]
  },
  {
   "cell_type": "code",
   "execution_count": 68,
   "id": "8350eeb0",
   "metadata": {},
   "outputs": [
    {
     "data": {
      "text/plain": [
       "'C:\\\\Users\\\\DELL\\\\Documents'"
      ]
     },
     "execution_count": 68,
     "metadata": {},
     "output_type": "execute_result"
    }
   ],
   "source": [
    "pwd"
   ]
  },
  {
   "cell_type": "markdown",
   "id": "4ca3780f",
   "metadata": {},
   "source": [
    "### Load CSV files in pandas data frame "
   ]
  },
  {
   "cell_type": "code",
   "execution_count": 105,
   "id": "e922be72",
   "metadata": {},
   "outputs": [
    {
     "data": {
      "text/html": [
       "<div>\n",
       "<style scoped>\n",
       "    .dataframe tbody tr th:only-of-type {\n",
       "        vertical-align: middle;\n",
       "    }\n",
       "\n",
       "    .dataframe tbody tr th {\n",
       "        vertical-align: top;\n",
       "    }\n",
       "\n",
       "    .dataframe thead th {\n",
       "        text-align: right;\n",
       "    }\n",
       "</style>\n",
       "<table border=\"1\" class=\"dataframe\">\n",
       "  <thead>\n",
       "    <tr style=\"text-align: right;\">\n",
       "      <th></th>\n",
       "      <th>Year</th>\n",
       "      <th>Quarter</th>\n",
       "      <th>MonthNo</th>\n",
       "      <th>MonthName</th>\n",
       "      <th>MonthID</th>\n",
       "      <th>Date</th>\n",
       "    </tr>\n",
       "  </thead>\n",
       "  <tbody>\n",
       "    <tr>\n",
       "      <th>0</th>\n",
       "      <td>1999.0</td>\n",
       "      <td>Q1</td>\n",
       "      <td>1.0</td>\n",
       "      <td>Jan</td>\n",
       "      <td>199901.0</td>\n",
       "      <td>1999-01-01</td>\n",
       "    </tr>\n",
       "  </tbody>\n",
       "</table>\n",
       "</div>"
      ],
      "text/plain": [
       "     Year Quarter  MonthNo MonthName   MonthID        Date\n",
       "0  1999.0      Q1      1.0       Jan  199901.0  1999-01-01"
      ]
     },
     "execution_count": 105,
     "metadata": {},
     "output_type": "execute_result"
    }
   ],
   "source": [
    "date_df=pd.read_csv(\"date_master.csv\",na_values=['nan'])\n",
    "date_df.head(1)"
   ]
  },
  {
   "cell_type": "code",
   "execution_count": 79,
   "id": "0309fc71",
   "metadata": {},
   "outputs": [
    {
     "name": "stderr",
     "output_type": "stream",
     "text": [
      "C:\\Users\\DELL\\AppData\\Local\\Temp\\ipykernel_7036\\3398542620.py:8: FutureWarning: The error_bad_lines argument has been deprecated and will be removed in a future version. Use on_bad_lines in the future.\n",
      "\n",
      "\n",
      "  sales_df=pd.read_csv(for_pd, sep='|',error_bad_lines=False)\n",
      "b'Skipping line 10439374: expected 5 fields, saw 6\\nSkipping line 10439381: expected 5 fields, saw 6\\n'\n"
     ]
    },
    {
     "data": {
      "text/html": [
       "<div>\n",
       "<style scoped>\n",
       "    .dataframe tbody tr th:only-of-type {\n",
       "        vertical-align: middle;\n",
       "    }\n",
       "\n",
       "    .dataframe tbody tr th {\n",
       "        vertical-align: top;\n",
       "    }\n",
       "\n",
       "    .dataframe thead th {\n",
       "        text-align: right;\n",
       "    }\n",
       "</style>\n",
       "<table border=\"1\" class=\"dataframe\">\n",
       "  <thead>\n",
       "    <tr style=\"text-align: right;\">\n",
       "      <th></th>\n",
       "      <th>ProductID</th>\n",
       "      <th>Date</th>\n",
       "      <th>Zip</th>\n",
       "      <th>Units</th>\n",
       "      <th>Revenue</th>\n",
       "    </tr>\n",
       "  </thead>\n",
       "  <tbody>\n",
       "    <tr>\n",
       "      <th>0</th>\n",
       "      <td>833</td>\n",
       "      <td>2000-01-15</td>\n",
       "      <td>76108</td>\n",
       "      <td>1</td>\n",
       "      <td>797.9475</td>\n",
       "    </tr>\n",
       "  </tbody>\n",
       "</table>\n",
       "</div>"
      ],
      "text/plain": [
       "   ProductID        Date    Zip  Units   Revenue\n",
       "0        833  2000-01-15  76108      1  797.9475"
      ]
     },
     "execution_count": 79,
     "metadata": {},
     "output_type": "execute_result"
    }
   ],
   "source": [
    "with open('us_sales_2000_to_2016.csv') as f:\n",
    "    for_pd = StringIO()\n",
    "    for line in f:\n",
    "        new_line = re.sub(r',', '|', line.rstrip(), count=5)\n",
    "        print(new_line, file=for_pd)\n",
    "    for_pd.seek(0)\n",
    "\n",
    "sales_df=pd.read_csv(for_pd, sep='|',error_bad_lines=False)\n",
    "sales_df.head(1)"
   ]
  },
  {
   "cell_type": "code",
   "execution_count": 97,
   "id": "181b6085",
   "metadata": {},
   "outputs": [
    {
     "data": {
      "text/html": [
       "<div>\n",
       "<style scoped>\n",
       "    .dataframe tbody tr th:only-of-type {\n",
       "        vertical-align: middle;\n",
       "    }\n",
       "\n",
       "    .dataframe tbody tr th {\n",
       "        vertical-align: top;\n",
       "    }\n",
       "\n",
       "    .dataframe thead th {\n",
       "        text-align: right;\n",
       "    }\n",
       "</style>\n",
       "<table border=\"1\" class=\"dataframe\">\n",
       "  <thead>\n",
       "    <tr style=\"text-align: right;\">\n",
       "      <th></th>\n",
       "      <th>ï»¿ProductID</th>\n",
       "      <th>Product</th>\n",
       "      <th>Category</th>\n",
       "      <th>Segment</th>\n",
       "      <th>ManufacturerID</th>\n",
       "      <th>Manufacturer</th>\n",
       "    </tr>\n",
       "  </thead>\n",
       "  <tbody>\n",
       "    <tr>\n",
       "      <th>0</th>\n",
       "      <td>1</td>\n",
       "      <td>Abbas MA-01</td>\n",
       "      <td>Mix</td>\n",
       "      <td>All Season</td>\n",
       "      <td>1</td>\n",
       "      <td>Abbas</td>\n",
       "    </tr>\n",
       "  </tbody>\n",
       "</table>\n",
       "</div>"
      ],
      "text/plain": [
       "   ï»¿ProductID      Product Category     Segment ManufacturerID Manufacturer\n",
       "0             1  Abbas MA-01      Mix  All Season              1        Abbas"
      ]
     },
     "execution_count": 97,
     "metadata": {},
     "output_type": "execute_result"
    }
   ],
   "source": [
    "with open('product_master.csv') as f:\n",
    "    for_pd = StringIO()\n",
    "    for line in f:\n",
    "        new_line = re.sub(r',', '|', line.rstrip(), count=5)\n",
    "        print(new_line, file=for_pd)\n",
    "    for_pd.seek(0)\n",
    "\n",
    "product_df=pd.read_csv(for_pd, sep='|')\n",
    "product_df.head(1)"
   ]
  },
  {
   "cell_type": "code",
   "execution_count": 147,
   "id": "eba39430",
   "metadata": {},
   "outputs": [
    {
     "data": {
      "text/html": [
       "<div>\n",
       "<style scoped>\n",
       "    .dataframe tbody tr th:only-of-type {\n",
       "        vertical-align: middle;\n",
       "    }\n",
       "\n",
       "    .dataframe tbody tr th {\n",
       "        vertical-align: top;\n",
       "    }\n",
       "\n",
       "    .dataframe thead th {\n",
       "        text-align: right;\n",
       "    }\n",
       "</style>\n",
       "<table border=\"1\" class=\"dataframe\">\n",
       "  <thead>\n",
       "    <tr style=\"text-align: right;\">\n",
       "      <th></th>\n",
       "      <th>CountryISOCode</th>\n",
       "      <th>PostalCode</th>\n",
       "      <th>PlaceName</th>\n",
       "      <th>AdminName1</th>\n",
       "      <th>CodeName1</th>\n",
       "      <th>AdminName2</th>\n",
       "      <th>CodeName2</th>\n",
       "      <th>AdminName3</th>\n",
       "      <th>CodeName3</th>\n",
       "      <th>latitude</th>\n",
       "      <th>longitude</th>\n",
       "      <th>accuracy</th>\n",
       "    </tr>\n",
       "  </thead>\n",
       "  <tbody>\n",
       "    <tr>\n",
       "      <th>0</th>\n",
       "      <td>US</td>\n",
       "      <td>99553</td>\n",
       "      <td>Akutan</td>\n",
       "      <td>Alaska</td>\n",
       "      <td>AK</td>\n",
       "      <td>Aleutians East</td>\n",
       "      <td>13.0</td>\n",
       "      <td>NaN</td>\n",
       "      <td>NaN</td>\n",
       "      <td>54.143</td>\n",
       "      <td>-165.7854</td>\n",
       "      <td>1</td>\n",
       "    </tr>\n",
       "  </tbody>\n",
       "</table>\n",
       "</div>"
      ],
      "text/plain": [
       "  CountryISOCode  PostalCode PlaceName AdminName1 CodeName1      AdminName2  \\\n",
       "0             US       99553    Akutan     Alaska        AK  Aleutians East   \n",
       "\n",
       "   CodeName2 AdminName3  CodeName3  latitude  longitude accuracy  \n",
       "0       13.0        NaN        NaN    54.143  -165.7854        1  "
      ]
     },
     "execution_count": 147,
     "metadata": {},
     "output_type": "execute_result"
    }
   ],
   "source": [
    "with open('zip_usa_master.csv') as f:\n",
    "    for_pd = StringIO()\n",
    "    for line in f:\n",
    "        new_line = re.sub(r',', '|', line.rstrip(), count=11)\n",
    "        print(new_line, file=for_pd)\n",
    "    for_pd.seek(0)\n",
    "\n",
    "zip_df=pd.read_csv(for_pd, sep='|')\n",
    "zip_df.head(1)"
   ]
  },
  {
   "cell_type": "markdown",
   "id": "3271d123",
   "metadata": {},
   "source": [
    "### Data preprocessing for dataframes "
   ]
  },
  {
   "cell_type": "markdown",
   "id": "87c654ab",
   "metadata": {},
   "source": [
    "#### Date dataframe "
   ]
  },
  {
   "cell_type": "code",
   "execution_count": 110,
   "id": "4a557332",
   "metadata": {},
   "outputs": [
    {
     "data": {
      "text/html": [
       "<div>\n",
       "<style scoped>\n",
       "    .dataframe tbody tr th:only-of-type {\n",
       "        vertical-align: middle;\n",
       "    }\n",
       "\n",
       "    .dataframe tbody tr th {\n",
       "        vertical-align: top;\n",
       "    }\n",
       "\n",
       "    .dataframe thead th {\n",
       "        text-align: right;\n",
       "    }\n",
       "</style>\n",
       "<table border=\"1\" class=\"dataframe\">\n",
       "  <thead>\n",
       "    <tr style=\"text-align: right;\">\n",
       "      <th></th>\n",
       "      <th>Year</th>\n",
       "      <th>Quarter</th>\n",
       "      <th>MonthNo</th>\n",
       "      <th>MonthName</th>\n",
       "      <th>MonthID</th>\n",
       "      <th>Date</th>\n",
       "      <th>Dummy</th>\n",
       "    </tr>\n",
       "  </thead>\n",
       "  <tbody>\n",
       "    <tr>\n",
       "      <th>0</th>\n",
       "      <td>1999</td>\n",
       "      <td>Q1</td>\n",
       "      <td>1</td>\n",
       "      <td>Jan</td>\n",
       "      <td>199901</td>\n",
       "      <td>1999-01-01</td>\n",
       "      <td>1999Q1</td>\n",
       "    </tr>\n",
       "    <tr>\n",
       "      <th>1</th>\n",
       "      <td>1999</td>\n",
       "      <td>Q1</td>\n",
       "      <td>0</td>\n",
       "      <td>NaN</td>\n",
       "      <td>0</td>\n",
       "      <td>1999-01-02</td>\n",
       "      <td>1999Q1</td>\n",
       "    </tr>\n",
       "    <tr>\n",
       "      <th>2</th>\n",
       "      <td>1999</td>\n",
       "      <td>Q1</td>\n",
       "      <td>0</td>\n",
       "      <td>NaN</td>\n",
       "      <td>0</td>\n",
       "      <td>1999-01-03</td>\n",
       "      <td>1999Q1</td>\n",
       "    </tr>\n",
       "    <tr>\n",
       "      <th>3</th>\n",
       "      <td>1999</td>\n",
       "      <td>Q1</td>\n",
       "      <td>0</td>\n",
       "      <td>NaN</td>\n",
       "      <td>0</td>\n",
       "      <td>1999-01-04</td>\n",
       "      <td>1999Q1</td>\n",
       "    </tr>\n",
       "    <tr>\n",
       "      <th>4</th>\n",
       "      <td>1999</td>\n",
       "      <td>Q1</td>\n",
       "      <td>0</td>\n",
       "      <td>NaN</td>\n",
       "      <td>0</td>\n",
       "      <td>1999-01-05</td>\n",
       "      <td>1999Q1</td>\n",
       "    </tr>\n",
       "  </tbody>\n",
       "</table>\n",
       "</div>"
      ],
      "text/plain": [
       "   Year Quarter  MonthNo MonthName  MonthID        Date   Dummy\n",
       "0  1999      Q1        1       Jan   199901  1999-01-01  1999Q1\n",
       "1  1999      Q1        0       NaN        0  1999-01-02  1999Q1\n",
       "2  1999      Q1        0       NaN        0  1999-01-03  1999Q1\n",
       "3  1999      Q1        0       NaN        0  1999-01-04  1999Q1\n",
       "4  1999      Q1        0       NaN        0  1999-01-05  1999Q1"
      ]
     },
     "execution_count": 110,
     "metadata": {},
     "output_type": "execute_result"
    }
   ],
   "source": [
    "# Pre processing the date dataframe to populate data from 1999 to 2016\n",
    "date_df['Year'] = date_df['Year'].fillna(0).astype(int)\n",
    "date_df['MonthNo'] = date_df['MonthNo'].fillna(0).astype(int)\n",
    "date_df['MonthID'] = date_df['MonthID'].fillna(0).astype(int)\n",
    "date_df.head(5)"
   ]
  },
  {
   "cell_type": "code",
   "execution_count": 100,
   "id": "b4b0ac95",
   "metadata": {},
   "outputs": [],
   "source": [
    "date_df['Date'] = pd.to_datetime(date_df['Date'])\n",
    "date_df['Date'] = pd.to_datetime(date_df['Date']).dt.strftime('%Y-%m-%d')\n",
    "date_df['Date']"
   ]
  },
  {
   "cell_type": "code",
   "execution_count": 111,
   "id": "e03ce902",
   "metadata": {},
   "outputs": [],
   "source": [
    "date_df['Dummy'] = pd.PeriodIndex(date_df[\"Date\"], freq='Q')\n",
    "date_df['Quarter']=date_df['Dummy'].astype(str).str[4:]\n",
    "date_df['Year']=date_df['Dummy'].astype(str).str[:4]\n",
    "date_df['MonthNo']=date_df['Date'].astype(str).str[5:7]"
   ]
  },
  {
   "cell_type": "code",
   "execution_count": 119,
   "id": "add4f4d3",
   "metadata": {},
   "outputs": [],
   "source": [
    "date_df.drop(columns=['MonthName','MonthID','Dummy'], inplace=True)"
   ]
  },
  {
   "cell_type": "code",
   "execution_count": 155,
   "id": "05d3b5ee",
   "metadata": {},
   "outputs": [
    {
     "data": {
      "text/html": [
       "<div>\n",
       "<style scoped>\n",
       "    .dataframe tbody tr th:only-of-type {\n",
       "        vertical-align: middle;\n",
       "    }\n",
       "\n",
       "    .dataframe tbody tr th {\n",
       "        vertical-align: top;\n",
       "    }\n",
       "\n",
       "    .dataframe thead th {\n",
       "        text-align: right;\n",
       "    }\n",
       "</style>\n",
       "<table border=\"1\" class=\"dataframe\">\n",
       "  <thead>\n",
       "    <tr style=\"text-align: right;\">\n",
       "      <th></th>\n",
       "      <th>Year</th>\n",
       "      <th>Quarter</th>\n",
       "      <th>MonthNo</th>\n",
       "      <th>Date</th>\n",
       "    </tr>\n",
       "  </thead>\n",
       "  <tbody>\n",
       "    <tr>\n",
       "      <th>0</th>\n",
       "      <td>1999</td>\n",
       "      <td>Q1</td>\n",
       "      <td>01</td>\n",
       "      <td>1999-01-01</td>\n",
       "    </tr>\n",
       "    <tr>\n",
       "      <th>1</th>\n",
       "      <td>1999</td>\n",
       "      <td>Q1</td>\n",
       "      <td>01</td>\n",
       "      <td>1999-01-02</td>\n",
       "    </tr>\n",
       "    <tr>\n",
       "      <th>2</th>\n",
       "      <td>1999</td>\n",
       "      <td>Q1</td>\n",
       "      <td>01</td>\n",
       "      <td>1999-01-03</td>\n",
       "    </tr>\n",
       "    <tr>\n",
       "      <th>3</th>\n",
       "      <td>1999</td>\n",
       "      <td>Q1</td>\n",
       "      <td>01</td>\n",
       "      <td>1999-01-04</td>\n",
       "    </tr>\n",
       "    <tr>\n",
       "      <th>4</th>\n",
       "      <td>1999</td>\n",
       "      <td>Q1</td>\n",
       "      <td>01</td>\n",
       "      <td>1999-01-05</td>\n",
       "    </tr>\n",
       "  </tbody>\n",
       "</table>\n",
       "</div>"
      ],
      "text/plain": [
       "   Year Quarter MonthNo        Date\n",
       "0  1999      Q1      01  1999-01-01\n",
       "1  1999      Q1      01  1999-01-02\n",
       "2  1999      Q1      01  1999-01-03\n",
       "3  1999      Q1      01  1999-01-04\n",
       "4  1999      Q1      01  1999-01-05"
      ]
     },
     "execution_count": 155,
     "metadata": {},
     "output_type": "execute_result"
    }
   ],
   "source": [
    "date_df.head(5)"
   ]
  },
  {
   "cell_type": "markdown",
   "id": "10cb00ac",
   "metadata": {},
   "source": [
    "#### Sales dataframe "
   ]
  },
  {
   "cell_type": "code",
   "execution_count": 128,
   "id": "b3f26084",
   "metadata": {},
   "outputs": [
    {
     "data": {
      "text/plain": [
       "(10439384, 6)"
      ]
     },
     "execution_count": 128,
     "metadata": {},
     "output_type": "execute_result"
    }
   ],
   "source": [
    "sales_df.shape"
   ]
  },
  {
   "cell_type": "code",
   "execution_count": 136,
   "id": "159f250e",
   "metadata": {},
   "outputs": [
    {
     "name": "stdout",
     "output_type": "stream",
     "text": [
      "<class 'pandas.core.frame.DataFrame'>\n",
      "RangeIndex: 10439384 entries, 0 to 10439383\n",
      "Data columns (total 7 columns):\n",
      " #   Column     Dtype  \n",
      "---  ------     -----  \n",
      " 0   ProductID  int64  \n",
      " 1   Date       object \n",
      " 2   Zip        int64  \n",
      " 3   Units      int64  \n",
      " 4   Revenue    float64\n",
      " 5   Year       object \n",
      " 6   Month      object \n",
      "dtypes: float64(1), int64(3), object(3)\n",
      "memory usage: 557.5+ MB\n"
     ]
    }
   ],
   "source": [
    "sales_df.info()"
   ]
  },
  {
   "cell_type": "code",
   "execution_count": 130,
   "id": "0c44154e",
   "metadata": {},
   "outputs": [],
   "source": [
    "sales_df['Year']=sales_df['Date'].astype(str).str[:4]\n",
    "sales_df['Month']=sales_df['Date'].astype(str).str[5:7]"
   ]
  },
  {
   "cell_type": "code",
   "execution_count": 164,
   "id": "f2e9a57c",
   "metadata": {},
   "outputs": [],
   "source": [
    "sales_df['Revenue'] = sales_df['Revenue'].round(1)"
   ]
  },
  {
   "cell_type": "code",
   "execution_count": 165,
   "id": "44a5dd23",
   "metadata": {},
   "outputs": [
    {
     "data": {
      "text/html": [
       "<div>\n",
       "<style scoped>\n",
       "    .dataframe tbody tr th:only-of-type {\n",
       "        vertical-align: middle;\n",
       "    }\n",
       "\n",
       "    .dataframe tbody tr th {\n",
       "        vertical-align: top;\n",
       "    }\n",
       "\n",
       "    .dataframe thead th {\n",
       "        text-align: right;\n",
       "    }\n",
       "</style>\n",
       "<table border=\"1\" class=\"dataframe\">\n",
       "  <thead>\n",
       "    <tr style=\"text-align: right;\">\n",
       "      <th></th>\n",
       "      <th>ProductID</th>\n",
       "      <th>Date</th>\n",
       "      <th>Zip</th>\n",
       "      <th>Units</th>\n",
       "      <th>Revenue</th>\n",
       "      <th>Year</th>\n",
       "      <th>Month</th>\n",
       "    </tr>\n",
       "  </thead>\n",
       "  <tbody>\n",
       "    <tr>\n",
       "      <th>0</th>\n",
       "      <td>833</td>\n",
       "      <td>2000-01-15</td>\n",
       "      <td>76108</td>\n",
       "      <td>1</td>\n",
       "      <td>798.0</td>\n",
       "      <td>2000</td>\n",
       "      <td>01</td>\n",
       "    </tr>\n",
       "    <tr>\n",
       "      <th>1</th>\n",
       "      <td>837</td>\n",
       "      <td>2000-01-15</td>\n",
       "      <td>33436</td>\n",
       "      <td>1</td>\n",
       "      <td>814.0</td>\n",
       "      <td>2000</td>\n",
       "      <td>01</td>\n",
       "    </tr>\n",
       "    <tr>\n",
       "      <th>2</th>\n",
       "      <td>837</td>\n",
       "      <td>2000-01-15</td>\n",
       "      <td>76531</td>\n",
       "      <td>1</td>\n",
       "      <td>814.0</td>\n",
       "      <td>2000</td>\n",
       "      <td>01</td>\n",
       "    </tr>\n",
       "    <tr>\n",
       "      <th>3</th>\n",
       "      <td>838</td>\n",
       "      <td>2000-01-15</td>\n",
       "      <td>29526</td>\n",
       "      <td>1</td>\n",
       "      <td>934.0</td>\n",
       "      <td>2000</td>\n",
       "      <td>01</td>\n",
       "    </tr>\n",
       "    <tr>\n",
       "      <th>4</th>\n",
       "      <td>838</td>\n",
       "      <td>2000-01-15</td>\n",
       "      <td>33584</td>\n",
       "      <td>1</td>\n",
       "      <td>945.0</td>\n",
       "      <td>2000</td>\n",
       "      <td>01</td>\n",
       "    </tr>\n",
       "  </tbody>\n",
       "</table>\n",
       "</div>"
      ],
      "text/plain": [
       "   ProductID        Date    Zip  Units  Revenue  Year Month\n",
       "0        833  2000-01-15  76108      1    798.0  2000    01\n",
       "1        837  2000-01-15  33436      1    814.0  2000    01\n",
       "2        837  2000-01-15  76531      1    814.0  2000    01\n",
       "3        838  2000-01-15  29526      1    934.0  2000    01\n",
       "4        838  2000-01-15  33584      1    945.0  2000    01"
      ]
     },
     "execution_count": 165,
     "metadata": {},
     "output_type": "execute_result"
    }
   ],
   "source": [
    "sales_df.head()"
   ]
  },
  {
   "cell_type": "markdown",
   "id": "70678461",
   "metadata": {},
   "source": [
    "#### Product dataframe  "
   ]
  },
  {
   "cell_type": "code",
   "execution_count": 134,
   "id": "0f0098a8",
   "metadata": {},
   "outputs": [
    {
     "name": "stdout",
     "output_type": "stream",
     "text": [
      "<class 'pandas.core.frame.DataFrame'>\n",
      "RangeIndex: 2412 entries, 0 to 2411\n",
      "Data columns (total 6 columns):\n",
      " #   Column          Non-Null Count  Dtype \n",
      "---  ------          --------------  ----- \n",
      " 0   ï»¿ProductID    2412 non-null   int64 \n",
      " 1   Product         2412 non-null   object\n",
      " 2   Category        2410 non-null   object\n",
      " 3   Segment         2412 non-null   object\n",
      " 4   ManufacturerID  2412 non-null   object\n",
      " 5   Manufacturer    2412 non-null   object\n",
      "dtypes: int64(1), object(5)\n",
      "memory usage: 113.2+ KB\n"
     ]
    }
   ],
   "source": [
    "product_df.info()"
   ]
  },
  {
   "cell_type": "code",
   "execution_count": 138,
   "id": "95d887d1",
   "metadata": {},
   "outputs": [
    {
     "data": {
      "text/html": [
       "<div>\n",
       "<style scoped>\n",
       "    .dataframe tbody tr th:only-of-type {\n",
       "        vertical-align: middle;\n",
       "    }\n",
       "\n",
       "    .dataframe tbody tr th {\n",
       "        vertical-align: top;\n",
       "    }\n",
       "\n",
       "    .dataframe thead th {\n",
       "        text-align: right;\n",
       "    }\n",
       "</style>\n",
       "<table border=\"1\" class=\"dataframe\">\n",
       "  <thead>\n",
       "    <tr style=\"text-align: right;\">\n",
       "      <th></th>\n",
       "      <th>ï»¿ProductID</th>\n",
       "      <th>Product</th>\n",
       "      <th>Category</th>\n",
       "      <th>Segment</th>\n",
       "      <th>ManufacturerID</th>\n",
       "      <th>Manufacturer</th>\n",
       "    </tr>\n",
       "  </thead>\n",
       "  <tbody>\n",
       "    <tr>\n",
       "      <th>0</th>\n",
       "      <td>1</td>\n",
       "      <td>Abbas MA-01</td>\n",
       "      <td>Mix</td>\n",
       "      <td>All Season</td>\n",
       "      <td>1</td>\n",
       "      <td>Abbas</td>\n",
       "    </tr>\n",
       "    <tr>\n",
       "      <th>1</th>\n",
       "      <td>2</td>\n",
       "      <td>Abbas MA-02</td>\n",
       "      <td>Mix</td>\n",
       "      <td>All Season</td>\n",
       "      <td>1</td>\n",
       "      <td>Abbas</td>\n",
       "    </tr>\n",
       "  </tbody>\n",
       "</table>\n",
       "</div>"
      ],
      "text/plain": [
       "   ï»¿ProductID      Product Category     Segment ManufacturerID Manufacturer\n",
       "0             1  Abbas MA-01      Mix  All Season              1        Abbas\n",
       "1             2  Abbas MA-02      Mix  All Season              1        Abbas"
      ]
     },
     "execution_count": 138,
     "metadata": {},
     "output_type": "execute_result"
    }
   ],
   "source": [
    "product_df.head(2)\n"
   ]
  },
  {
   "cell_type": "markdown",
   "id": "75feb0f9",
   "metadata": {},
   "source": [
    "#### ZIP dataframe  "
   ]
  },
  {
   "cell_type": "code",
   "execution_count": 148,
   "id": "b0612749",
   "metadata": {},
   "outputs": [
    {
     "name": "stdout",
     "output_type": "stream",
     "text": [
      "<class 'pandas.core.frame.DataFrame'>\n",
      "RangeIndex: 41469 entries, 0 to 41468\n",
      "Data columns (total 12 columns):\n",
      " #   Column          Non-Null Count  Dtype  \n",
      "---  ------          --------------  -----  \n",
      " 0   CountryISOCode  41469 non-null  object \n",
      " 1   PostalCode      41469 non-null  int64  \n",
      " 2   PlaceName       41469 non-null  object \n",
      " 3   AdminName1      40956 non-null  object \n",
      " 4   CodeName1       40958 non-null  object \n",
      " 5   AdminName2      40958 non-null  object \n",
      " 6   CodeName2       40958 non-null  float64\n",
      " 7   AdminName3      1 non-null      object \n",
      " 8   CodeName3       1 non-null      float64\n",
      " 9   latitude        41467 non-null  float64\n",
      " 10  longitude       41469 non-null  float64\n",
      " 11  accuracy        40939 non-null  object \n",
      "dtypes: float64(4), int64(1), object(7)\n",
      "memory usage: 3.8+ MB\n"
     ]
    }
   ],
   "source": [
    "zip_df.info()"
   ]
  },
  {
   "cell_type": "code",
   "execution_count": 149,
   "id": "cbee407b",
   "metadata": {},
   "outputs": [],
   "source": [
    "zip_df.drop(['AdminName3', 'CodeName3'], axis=1,inplace=True)"
   ]
  },
  {
   "cell_type": "code",
   "execution_count": 150,
   "id": "ce3b0269",
   "metadata": {},
   "outputs": [
    {
     "data": {
      "text/html": [
       "<div>\n",
       "<style scoped>\n",
       "    .dataframe tbody tr th:only-of-type {\n",
       "        vertical-align: middle;\n",
       "    }\n",
       "\n",
       "    .dataframe tbody tr th {\n",
       "        vertical-align: top;\n",
       "    }\n",
       "\n",
       "    .dataframe thead th {\n",
       "        text-align: right;\n",
       "    }\n",
       "</style>\n",
       "<table border=\"1\" class=\"dataframe\">\n",
       "  <thead>\n",
       "    <tr style=\"text-align: right;\">\n",
       "      <th></th>\n",
       "      <th>CountryISOCode</th>\n",
       "      <th>PostalCode</th>\n",
       "      <th>PlaceName</th>\n",
       "      <th>AdminName1</th>\n",
       "      <th>CodeName1</th>\n",
       "      <th>AdminName2</th>\n",
       "      <th>CodeName2</th>\n",
       "      <th>latitude</th>\n",
       "      <th>longitude</th>\n",
       "      <th>accuracy</th>\n",
       "    </tr>\n",
       "  </thead>\n",
       "  <tbody>\n",
       "    <tr>\n",
       "      <th>0</th>\n",
       "      <td>US</td>\n",
       "      <td>99553</td>\n",
       "      <td>Akutan</td>\n",
       "      <td>Alaska</td>\n",
       "      <td>AK</td>\n",
       "      <td>Aleutians East</td>\n",
       "      <td>13.0</td>\n",
       "      <td>54.1430</td>\n",
       "      <td>-165.7854</td>\n",
       "      <td>1</td>\n",
       "    </tr>\n",
       "    <tr>\n",
       "      <th>1</th>\n",
       "      <td>US</td>\n",
       "      <td>99571</td>\n",
       "      <td>Cold Bay</td>\n",
       "      <td>Alaska</td>\n",
       "      <td>AK</td>\n",
       "      <td>Aleutians East</td>\n",
       "      <td>13.0</td>\n",
       "      <td>55.1858</td>\n",
       "      <td>-162.7211</td>\n",
       "      <td>1</td>\n",
       "    </tr>\n",
       "    <tr>\n",
       "      <th>2</th>\n",
       "      <td>US</td>\n",
       "      <td>99583</td>\n",
       "      <td>False Pass</td>\n",
       "      <td>Alaska</td>\n",
       "      <td>AK</td>\n",
       "      <td>Aleutians East</td>\n",
       "      <td>13.0</td>\n",
       "      <td>54.8542</td>\n",
       "      <td>-163.4113</td>\n",
       "      <td>1</td>\n",
       "    </tr>\n",
       "    <tr>\n",
       "      <th>3</th>\n",
       "      <td>US</td>\n",
       "      <td>99612</td>\n",
       "      <td>King Cove</td>\n",
       "      <td>Alaska</td>\n",
       "      <td>AK</td>\n",
       "      <td>Aleutians East</td>\n",
       "      <td>13.0</td>\n",
       "      <td>55.0628</td>\n",
       "      <td>-162.3056</td>\n",
       "      <td>1</td>\n",
       "    </tr>\n",
       "    <tr>\n",
       "      <th>4</th>\n",
       "      <td>US</td>\n",
       "      <td>99661</td>\n",
       "      <td>Sand Point</td>\n",
       "      <td>Alaska</td>\n",
       "      <td>AK</td>\n",
       "      <td>Aleutians East</td>\n",
       "      <td>13.0</td>\n",
       "      <td>55.3192</td>\n",
       "      <td>-160.4914</td>\n",
       "      <td>1</td>\n",
       "    </tr>\n",
       "  </tbody>\n",
       "</table>\n",
       "</div>"
      ],
      "text/plain": [
       "  CountryISOCode  PostalCode   PlaceName AdminName1 CodeName1      AdminName2  \\\n",
       "0             US       99553      Akutan     Alaska        AK  Aleutians East   \n",
       "1             US       99571    Cold Bay     Alaska        AK  Aleutians East   \n",
       "2             US       99583  False Pass     Alaska        AK  Aleutians East   \n",
       "3             US       99612   King Cove     Alaska        AK  Aleutians East   \n",
       "4             US       99661  Sand Point     Alaska        AK  Aleutians East   \n",
       "\n",
       "   CodeName2  latitude  longitude accuracy  \n",
       "0       13.0   54.1430  -165.7854        1  \n",
       "1       13.0   55.1858  -162.7211        1  \n",
       "2       13.0   54.8542  -163.4113        1  \n",
       "3       13.0   55.0628  -162.3056        1  \n",
       "4       13.0   55.3192  -160.4914        1  "
      ]
     },
     "execution_count": 150,
     "metadata": {},
     "output_type": "execute_result"
    }
   ],
   "source": [
    "zip_df.head(5)"
   ]
  },
  {
   "cell_type": "code",
   "execution_count": 151,
   "id": "79c3bdcc",
   "metadata": {},
   "outputs": [],
   "source": [
    "date_df.to_csv('dim_date.csv')\n",
    "\n",
    "product_df.to_csv('dim_product.csv')\n",
    "zip_df.to_csv('dim_zip.csv')"
   ]
  },
  {
   "cell_type": "code",
   "execution_count": 160,
   "id": "ea39f698",
   "metadata": {},
   "outputs": [],
   "source": [
    "#sales_df.to_csv('fact_sales.csv')\n",
    "\n",
    "csvfile = open('fact_sales.csv', 'r').readlines()\n",
    "filename = 1\n",
    "for i in range(len(csvfile)):\n",
    "    if i % 3000000 == 0:\n",
    "        open(str(filename) + '.csv', 'w+').writelines(csvfile[i:i+3000000])\n",
    "        filename += 1"
   ]
  },
  {
   "cell_type": "code",
   "execution_count": 166,
   "id": "3ce77fdf",
   "metadata": {},
   "outputs": [
    {
     "name": "stdout",
     "output_type": "stream",
     "text": [
      "Collecting snowflake-connector-pythonNote: you may need to restart the kernel to use updated packages.\n",
      "  Downloading snowflake_connector_python-3.9.1-cp39-cp39-win_amd64.whl (914 kB)\n",
      "Requirement already satisfied: cryptography<43.0.0,>=3.1.0 in d:\\apps\\anaconda3\\lib\\site-packages (from snowflake-connector-python) (3.4.8)\n",
      "Collecting platformdirs<5.0.0,>=2.6.0\n",
      "  Downloading platformdirs-4.2.1-py3-none-any.whl (17 kB)\n",
      "Collecting tomlkit\n",
      "  Downloading tomlkit-0.12.4-py3-none-any.whl (37 kB)\n",
      "Collecting asn1crypto<2.0.0,>0.24.0\n",
      "  Downloading asn1crypto-1.5.1-py2.py3-none-any.whl (105 kB)\n",
      "Requirement already satisfied: pytz in d:\\apps\\anaconda3\\lib\\site-packages (from snowflake-connector-python) (2021.3)\n",
      "Requirement already satisfied: certifi>=2017.4.17 in d:\\apps\\anaconda3\\lib\\site-packages (from snowflake-connector-python) (2021.10.8)\n",
      "Requirement already satisfied: filelock<4,>=3.5 in d:\\apps\\anaconda3\\lib\\site-packages (from snowflake-connector-python) (3.6.0)\n",
      "Requirement already satisfied: pyjwt<3.0.0 in d:\\apps\\anaconda3\\lib\\site-packages (from snowflake-connector-python) (2.1.0)\n",
      "Requirement already satisfied: idna<4,>=2.5 in d:\\apps\\anaconda3\\lib\\site-packages (from snowflake-connector-python) (3.3)\n",
      "Requirement already satisfied: pyOpenSSL<25.0.0,>=16.2.0 in d:\\apps\\anaconda3\\lib\\site-packages (from snowflake-connector-python) (21.0.0)\n",
      "Requirement already satisfied: urllib3<2.0.0,>=1.21.1 in d:\\apps\\anaconda3\\lib\\site-packages (from snowflake-connector-python) (1.26.9)\n",
      "Requirement already satisfied: packaging in d:\\apps\\anaconda3\\lib\\site-packages (from snowflake-connector-python) (21.3)\n",
      "Requirement already satisfied: cffi<2.0.0,>=1.9 in d:\\apps\\anaconda3\\lib\\site-packages (from snowflake-connector-python) (1.15.0)\n",
      "Collecting typing-extensions<5,>=4.3\n",
      "\n",
      "  Downloading typing_extensions-4.11.0-py3-none-any.whl (34 kB)\n",
      "Requirement already satisfied: charset-normalizer<4,>=2 in d:\\apps\\anaconda3\\lib\\site-packages (from snowflake-connector-python) (2.0.4)\n",
      "Requirement already satisfied: requests<3.0.0 in d:\\apps\\anaconda3\\lib\\site-packages (from snowflake-connector-python) (2.27.1)\n",
      "Requirement already satisfied: sortedcontainers>=2.4.0 in d:\\apps\\anaconda3\\lib\\site-packages (from snowflake-connector-python) (2.4.0)\n",
      "Requirement already satisfied: pycparser in d:\\apps\\anaconda3\\lib\\site-packages (from cffi<2.0.0,>=1.9->snowflake-connector-python) (2.21)\n",
      "Requirement already satisfied: six>=1.5.2 in d:\\apps\\anaconda3\\lib\\site-packages (from pyOpenSSL<25.0.0,>=16.2.0->snowflake-connector-python) (1.16.0)\n",
      "Requirement already satisfied: pyparsing!=3.0.5,>=2.0.2 in d:\\apps\\anaconda3\\lib\\site-packages (from packaging->snowflake-connector-python) (3.0.4)\n",
      "Installing collected packages: typing-extensions, tomlkit, platformdirs, asn1crypto, snowflake-connector-python\n",
      "  Attempting uninstall: typing-extensions\n",
      "    Found existing installation: typing-extensions 4.1.1\n",
      "    Uninstalling typing-extensions-4.1.1:\n",
      "      Successfully uninstalled typing-extensions-4.1.1\n",
      "Successfully installed asn1crypto-1.5.1 platformdirs-4.2.1 snowflake-connector-python-3.9.1 tomlkit-0.12.4 typing-extensions-4.11.0\n"
     ]
    }
   ],
   "source": [
    "pip install snowflake-connector-python"
   ]
  },
  {
   "cell_type": "code",
   "execution_count": null,
   "id": "4fc7c7f8",
   "metadata": {},
   "outputs": [],
   "source": []
  },
  {
   "cell_type": "code",
   "execution_count": 171,
   "id": "3192efc3",
   "metadata": {},
   "outputs": [
    {
     "ename": "SyntaxError",
     "evalue": "invalid syntax (2907854865.py, line 11)",
     "output_type": "error",
     "traceback": [
      "\u001b[1;36m  Input \u001b[1;32mIn [171]\u001b[1;36m\u001b[0m\n\u001b[1;33m    cs = ctx.cursor()\u001b[0m\n\u001b[1;37m    ^\u001b[0m\n\u001b[1;31mSyntaxError\u001b[0m\u001b[1;31m:\u001b[0m invalid syntax\n"
     ]
    }
   ],
   "source": [
    "import snowflake.connector\n",
    "\n",
    "\n",
    "    # Connect to snowflake\n",
    "ctx = snowflake.connector.connect(\n",
    "user='spilli',\n",
    "password='*%TuMbHh5Z&FcUC8',\n",
    "account='mvb03398.us-east-1'\n",
    "\n",
    "    # Establish a cursor and execute a query\n",
    " cs = ctx.cursor()\n",
    "    ret = []\n",
    "        try:\n",
    "            test = cs.execute(\"USE database SNOWFLAKE_SAMPLE_DATA\")\n",
    "            cs.execute(\"SHOW TABLES\")\n",
    "            ret = cs.fetchmany(30)\n",
    "        finally:\n",
    "        # Always close connections if there is an error\n",
    "            cs.close()\n",
    "\n",
    "    # Close the connection\n",
    "ctx.close()\n",
    "\n",
    "    # Print out the return values for the data\n",
    "for data in ret:\n",
    "    print(data)\n",
    "        \n",
    "        "
   ]
  }
 ],
 "metadata": {
  "kernelspec": {
   "display_name": "Python 3 (ipykernel)",
   "language": "python",
   "name": "python3"
  },
  "language_info": {
   "codemirror_mode": {
    "name": "ipython",
    "version": 3
   },
   "file_extension": ".py",
   "mimetype": "text/x-python",
   "name": "python",
   "nbconvert_exporter": "python",
   "pygments_lexer": "ipython3",
   "version": "3.9.12"
  }
 },
 "nbformat": 4,
 "nbformat_minor": 5
}
